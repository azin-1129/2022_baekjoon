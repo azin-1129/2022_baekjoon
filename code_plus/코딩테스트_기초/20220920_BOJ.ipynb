{
 "cells": [
  {
   "cell_type": "markdown",
   "id": "d97c9cbb",
   "metadata": {},
   "source": [
    "### 2609. 최대공약수, 최소공배수"
   ]
  },
  {
   "cell_type": "code",
   "execution_count": 8,
   "id": "36de67fc",
   "metadata": {
    "scrolled": true
   },
   "outputs": [
    {
     "name": "stdout",
     "output_type": "stream",
     "text": [
      "10000 10000\n",
      "10000\n",
      "10000\n"
     ]
    }
   ],
   "source": [
    "# 20~30분동안 문제 이해중. 밑에건 내 생각\n",
    "a,b=map(int,input().split())\n",
    "big=a\n",
    "small=b\n",
    "y_res=0\n",
    "g_res=0\n",
    "\n",
    "if a<b:\n",
    "    big=b\n",
    "    small=a\n",
    "    \n",
    "small_y=[]\n",
    "\n",
    "for i in range(1,int(small**0.5)+1):\n",
    "    if small%i==0:\n",
    "        small_y.append(i)\n",
    "        if i**2!=small:\n",
    "            small_y.append(small//i)\n",
    "            \n",
    "for comp in reversed(sorted(small_y)):\n",
    "    if big%comp==0:\n",
    "        y_res=comp\n",
    "        break\n",
    "        \n",
    "i=1\n",
    "while True:\n",
    "    if big*i%small==0:\n",
    "        g_res=big*i\n",
    "        break\n",
    "    else:\n",
    "        i+=1\n",
    "        \n",
    "print(y_res)\n",
    "print(g_res)"
   ]
  },
  {
   "cell_type": "markdown",
   "id": "b64a3db2",
   "metadata": {},
   "source": [
    "### 2309. 일곱 난쟁이"
   ]
  },
  {
   "cell_type": "code",
   "execution_count": 23,
   "id": "a6f6bf41",
   "metadata": {},
   "outputs": [
    {
     "name": "stdout",
     "output_type": "stream",
     "text": [
      "20\n",
      "7\n",
      "23\n",
      "19\n",
      "10\n",
      "15\n",
      "25\n",
      "8\n",
      "13\n",
      "7\n",
      "8\n",
      "10\n",
      "13\n",
      "19\n",
      "20\n",
      "23\n"
     ]
    }
   ],
   "source": [
    "#  13분\n",
    "\n",
    "from itertools import combinations\n",
    "height=[] # 아홉명 키\n",
    "for _ in range(9):\n",
    "    height.append(int(input()))\n",
    "check=list(combinations(height,7))\n",
    "\n",
    "for chk in check:\n",
    "    if sum(chk)==100:\n",
    "        for h in sorted(chk):\n",
    "            print(h)\n",
    "        break"
   ]
  },
  {
   "cell_type": "markdown",
   "id": "f7f50c0e",
   "metadata": {},
   "source": [
    "### 1476. 날짜 계산"
   ]
  },
  {
   "cell_type": "code",
   "execution_count": 34,
   "id": "442d60cf",
   "metadata": {},
   "outputs": [
    {
     "name": "stdout",
     "output_type": "stream",
     "text": [
      "1 2 3\n"
     ]
    },
    {
     "ename": "KeyboardInterrupt",
     "evalue": "",
     "output_type": "error",
     "traceback": [
      "\u001b[1;31m---------------------------------------------------------------------------\u001b[0m",
      "\u001b[1;31mKeyboardInterrupt\u001b[0m                         Traceback (most recent call last)",
      "Input \u001b[1;32mIn [34]\u001b[0m, in \u001b[0;36m<cell line: 7>\u001b[1;34m()\u001b[0m\n\u001b[0;32m     12\u001b[0m     y\u001b[38;5;241m=\u001b[39m\u001b[38;5;241m1\u001b[39m\n\u001b[0;32m     13\u001b[0m z\u001b[38;5;241m+\u001b[39m\u001b[38;5;241m=\u001b[39m\u001b[38;5;241m1\u001b[39m\n\u001b[1;32m---> 14\u001b[0m \u001b[38;5;28;01mif\u001b[39;00m \u001b[43mm\u001b[49m\u001b[38;5;241m==\u001b[39m\u001b[38;5;241m20\u001b[39m:\n\u001b[0;32m     15\u001b[0m     z\u001b[38;5;241m=\u001b[39m\u001b[38;5;241m1\u001b[39m\n\u001b[0;32m     17\u001b[0m count\u001b[38;5;241m+\u001b[39m\u001b[38;5;241m=\u001b[39m\u001b[38;5;241m1\u001b[39m\n",
      "\u001b[1;31mKeyboardInterrupt\u001b[0m: "
     ]
    }
   ],
   "source": [
    "e,s,m=map(int,input().split())\n",
    "x=0\n",
    "y=0\n",
    "z=0\n",
    "count=0\n",
    "while True:\n",
    "    x+=1\n",
    "    if x==16:\n",
    "        x=1\n",
    "    y+=1\n",
    "    if s==29:\n",
    "        y=1\n",
    "    z+=1\n",
    "    if m==20:\n",
    "        z=1\n",
    "        \n",
    "    count+=1\n",
    "    \n",
    "    if x==e and y==s and z==m: # 일치\n",
    "        print(count)\n",
    "        break"
   ]
  },
  {
   "cell_type": "markdown",
   "id": "72b0f9c8",
   "metadata": {},
   "source": [
    "# "
   ]
  }
 ],
 "metadata": {
  "kernelspec": {
   "display_name": "Python 3 (ipykernel)",
   "language": "python",
   "name": "python3"
  },
  "language_info": {
   "codemirror_mode": {
    "name": "ipython",
    "version": 3
   },
   "file_extension": ".py",
   "mimetype": "text/x-python",
   "name": "python",
   "nbconvert_exporter": "python",
   "pygments_lexer": "ipython3",
   "version": "3.9.12"
  }
 },
 "nbformat": 4,
 "nbformat_minor": 5
}
