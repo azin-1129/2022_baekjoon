{
 "cells": [
  {
   "cell_type": "markdown",
   "metadata": {},
   "source": [
    "### 1476. 날짜 계산"
   ]
  },
  {
   "cell_type": "code",
   "execution_count": 8,
   "metadata": {},
   "outputs": [
    {
     "name": "stdout",
     "output_type": "stream",
     "text": [
      "15 28 19\n",
      "7980\n",
      "소요시간: 0.011024236679077148\n"
     ]
    }
   ],
   "source": [
    "# 20분 소요\n",
    "\n",
    "import time\n",
    "\n",
    "re,rs,rm=map(int,input().split())\n",
    "\n",
    "e,s,m=1,1,1\n",
    "count=1\n",
    "\n",
    "start=time.time()\n",
    "while True:\n",
    "    if e==re and s==rs and m==rm:\n",
    "        print(count)\n",
    "        end=time.time()-start\n",
    "        print('소요시간:',end)\n",
    "        break\n",
    "        \n",
    "    e+=1\n",
    "    s+=1\n",
    "    m+=1\n",
    "        \n",
    "    #print(e,s,m)\n",
    "    count+=1\n",
    "        \n",
    "    if e>15:\n",
    "        e=1\n",
    "    if s>28:\n",
    "        s=1\n",
    "    if m>19:\n",
    "        m=1"
   ]
  },
  {
   "cell_type": "markdown",
   "metadata": {},
   "source": [
    "### 1748. 수 이어 쓰기 1"
   ]
  },
  {
   "cell_type": "code",
   "execution_count": 18,
   "metadata": {},
   "outputs": [
    {
     "name": "stdout",
     "output_type": "stream",
     "text": [
      "15\n",
      "calc.. 15\n",
      "calc.. 26\n",
      "26\n"
     ]
    }
   ],
   "source": [
    "# 30분 넘게 고민중..\n",
    "\n",
    "n=int(input())\n",
    "res=0\n",
    "\n",
    "for i in range(len(str(n))):\n",
    "    res+=(i+1)*(n-10**i)+1\n",
    "    print('calc..',res)\n",
    "    \n",
    "print(res)"
   ]
  }
 ],
 "metadata": {
  "kernelspec": {
   "display_name": "Python 3",
   "language": "python",
   "name": "python3"
  },
  "language_info": {
   "codemirror_mode": {
    "name": "ipython",
    "version": 3
   },
   "file_extension": ".py",
   "mimetype": "text/x-python",
   "name": "python",
   "nbconvert_exporter": "python",
   "pygments_lexer": "ipython3",
   "version": "3.8.3"
  }
 },
 "nbformat": 4,
 "nbformat_minor": 4
}
