{
 "cells": [
  {
   "cell_type": "code",
   "execution_count": null,
   "metadata": {},
   "outputs": [],
   "source": [
    "import sys\n",
    "\n",
    "T=int(sys.stdin.readline())\n",
    "\n",
    "for _ in range(T):\n",
    "    N=int(sys.stdin.readline())\n",
    "    res=0\n",
    "\n",
    "    for i in range(1,N+1):\n",
    "        res+=i*(N//i)\n",
    "        \n",
    "    print(res)\n",
    "    \n",
    "# 원래 코드. 근데 시간 초과남"
   ]
  },
  {
   "cell_type": "code",
   "execution_count": 59,
   "metadata": {},
   "outputs": [
    {
     "name": "stdout",
     "output_type": "stream",
     "text": [
      "1\n",
      "5\n",
      "i: 1\n",
      "5 이하  1 가  5 개 있음\n",
      "5 이하  5 가  1 개 있음\n",
      "갱신 끝 10\n",
      "1이라 패스\n",
      "i: 2\n",
      "5 이하  2 가  2 개 있음\n",
      "갱신 끝 14\n",
      "14\n"
     ]
    }
   ],
   "source": [
    "# 17425 약수의 합\n",
    "import sys\n",
    "\n",
    "#T=int(sys.stdin.readline())\n",
    "T=int(input())\n",
    "\n",
    "for _ in range(T):\n",
    "    #N=int(sys.stdin.readline())\n",
    "    N=int(input())\n",
    "    res=0\n",
    "    for i in range(1,int(N**0.5)+1):\n",
    "        print('i:',i)\n",
    "        #if N%i==0:\n",
    "        res+=i*(N//i)\n",
    "        print(N,'이하 ',i,'가 ',N//i,'개 있음')\n",
    "        if N%i==0:\n",
    "            res+=(N//i)*(N//(N//i))\n",
    "            print(N,'이하 ',N//i,'가 ',N//(N//i),'개 있음')\n",
    "        print('갱신 끝',res)\n",
    "\n",
    "        if i==1:\n",
    "            print('1이라 패스')\n",
    "            continue\n",
    "            \n",
    "        if N%(i**2)==0:\n",
    "            res+=(i**2)*(N//(i**2))\n",
    "            print(N,'이하 ',i**2,'가 ',N//(i**2),'개 있음')\n",
    "            print(res)\n",
    "\n",
    "            \n",
    "        \n",
    "    print(res)\n",
    "# 이상한걸 만들어버린듯.. 작은 문제부터 풀고 다시 와볼까"
   ]
  },
  {
   "cell_type": "code",
   "execution_count": 29,
   "metadata": {},
   "outputs": [
    {
     "name": "stdout",
     "output_type": "stream",
     "text": [
      "10\n",
      "i: 1\n",
      "i: 2\n",
      "i: 3\n",
      "[10, 1, 2, 5]\n"
     ]
    }
   ],
   "source": [
    "x=int(input())\n",
    "result=[]\n",
    "\n",
    "for i in range(1,int(x**0.5)+1):\n",
    "    print('i:',i)\n",
    "    if x%(i**2)==0:\n",
    "        result.append(N//i**2)\n",
    "    if x%i==0:\n",
    "        result.append(i)\n",
    "        if i==1:\n",
    "            continue\n",
    "        result.append(N//i)\n",
    "        \n",
    "print(result)"
   ]
  },
  {
   "cell_type": "code",
   "execution_count": null,
   "metadata": {},
   "outputs": [],
   "source": []
  }
 ],
 "metadata": {
  "kernelspec": {
   "display_name": "Python 3",
   "language": "python",
   "name": "python3"
  },
  "language_info": {
   "codemirror_mode": {
    "name": "ipython",
    "version": 3
   },
   "file_extension": ".py",
   "mimetype": "text/x-python",
   "name": "python",
   "nbconvert_exporter": "python",
   "pygments_lexer": "ipython3",
   "version": "3.8.3"
  }
 },
 "nbformat": 4,
 "nbformat_minor": 4
}
