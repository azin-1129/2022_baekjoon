{
 "cells": [
  {
   "cell_type": "code",
   "execution_count": 16,
   "metadata": {},
   "outputs": [
    {
     "name": "stdout",
     "output_type": "stream",
     "text": [
      "9901\n",
      "12\n"
     ]
    }
   ],
   "source": [
    "# 4375\n",
    "\n",
    "while True:\n",
    "    res=1\n",
    "    try:\n",
    "        n=int(input())\n",
    "    except:\n",
    "        break\n",
    "        \n",
    "    while True:\n",
    "        if res%n!=0: # hoxy..형변환땜에?ㅋ ㅋ\n",
    "            res=res*10+1\n",
    "            continue\n",
    "        else:\n",
    "            print(len(str(res)))\n",
    "            break"
   ]
  },
  {
   "cell_type": "code",
   "execution_count": 20,
   "metadata": {},
   "outputs": [
    {
     "name": "stdout",
     "output_type": "stream",
     "text": [
      "14\n",
      "14 26456 2 28 13228 3307 7 23149 8 6614 46298 56 4 92596\n",
      "185192\n"
     ]
    }
   ],
   "source": [
    "# 1037\n",
    "count=int(input())\n",
    "reals=list(map(int,input().split()))\n",
    "\n",
    "print(max(reals)*min(reals))"
   ]
  },
  {
   "cell_type": "code",
   "execution_count": 48,
   "metadata": {},
   "outputs": [
    {
     "name": "stdout",
     "output_type": "stream",
     "text": [
      "1000000\n",
      "0.6930532455444336 822468118437\n"
     ]
    }
   ],
   "source": [
    "# 17427\n",
    "import time\n",
    "\n",
    "N=int(input())\n",
    "nums=0\n",
    "\n",
    "start=time.time()\n",
    "\n",
    "# for x in range(1,N+1):\n",
    "#     #print('x:',x)\n",
    "#     for i in range(1,int(x**(1/2))+1):\n",
    "#         if x%i==0:\n",
    "#             nums.append(i)\n",
    "#             if i**2!=x:\n",
    "#                 nums.append(x//i)\n",
    "            \n",
    "for x in range(1,N+1):\n",
    "    nums+=x*(N//x)\n",
    "# nums.sort()\n",
    "\n",
    "# print(nums)\n",
    "# for i in range(0,len(nums)):\n",
    "#     nums[i]*=(len(nums)-i)\n",
    "    \n",
    "# print(sum(nums))\n",
    "\n",
    "print(time.time()-start,nums)"
   ]
  },
  {
   "cell_type": "code",
   "execution_count": null,
   "metadata": {},
   "outputs": [],
   "source": []
  },
  {
   "cell_type": "code",
   "execution_count": null,
   "metadata": {},
   "outputs": [],
   "source": []
  }
 ],
 "metadata": {
  "kernelspec": {
   "display_name": "Python 3",
   "language": "python",
   "name": "python3"
  },
  "language_info": {
   "codemirror_mode": {
    "name": "ipython",
    "version": 3
   },
   "file_extension": ".py",
   "mimetype": "text/x-python",
   "name": "python",
   "nbconvert_exporter": "python",
   "pygments_lexer": "ipython3",
   "version": "3.8.3"
  }
 },
 "nbformat": 4,
 "nbformat_minor": 4
}
